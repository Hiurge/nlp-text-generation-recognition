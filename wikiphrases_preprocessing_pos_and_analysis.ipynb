{
 "cells": [
  {
   "cell_type": "code",
   "execution_count": 1025,
   "metadata": {},
   "outputs": [
    {
     "name": "stdout",
     "output_type": "stream",
     "text": [
      "CWD      : /home/l/AnacondaProjects/NameGen\n",
      "Load path: /home/l/AnacondaProjects/NameGen/WikiPhrases/wiki_phrases.csv\n",
      "Save path: /home/l/AnacondaProjects/NameGen/WikiPhrases/wiki_phrases_clean.csv\n"
     ]
    },
    {
     "data": {
      "text/html": [
       "<div>\n",
       "<style scoped>\n",
       "    .dataframe tbody tr th:only-of-type {\n",
       "        vertical-align: middle;\n",
       "    }\n",
       "\n",
       "    .dataframe tbody tr th {\n",
       "        vertical-align: top;\n",
       "    }\n",
       "\n",
       "    .dataframe thead th {\n",
       "        text-align: right;\n",
       "    }\n",
       "</style>\n",
       "<table border=\"1\" class=\"dataframe\">\n",
       "  <thead>\n",
       "    <tr style=\"text-align: right;\">\n",
       "      <th></th>\n",
       "      <th>Phrases</th>\n",
       "      <th>Category</th>\n",
       "      <th>NumWords</th>\n",
       "    </tr>\n",
       "  </thead>\n",
       "  <tbody>\n",
       "    <tr>\n",
       "      <th>0</th>\n",
       "      <td>A priori and a posteriori</td>\n",
       "      <td>Biases</td>\n",
       "      <td>5</td>\n",
       "    </tr>\n",
       "    <tr>\n",
       "      <th>1</th>\n",
       "      <td>Abductive reasoning</td>\n",
       "      <td>Biases</td>\n",
       "      <td>2</td>\n",
       "    </tr>\n",
       "    <tr>\n",
       "      <th>2</th>\n",
       "      <td>Abusive fallacy</td>\n",
       "      <td>Biases</td>\n",
       "      <td>2</td>\n",
       "    </tr>\n",
       "    <tr>\n",
       "      <th>3</th>\n",
       "      <td>Abusive power and control</td>\n",
       "      <td>Biases</td>\n",
       "      <td>4</td>\n",
       "    </tr>\n",
       "  </tbody>\n",
       "</table>\n",
       "</div>"
      ],
      "text/plain": [
       "                     Phrases Category  NumWords\n",
       "0  A priori and a posteriori   Biases         5\n",
       "1        Abductive reasoning   Biases         2\n",
       "2            Abusive fallacy   Biases         2\n",
       "3  Abusive power and control   Biases         4"
      ]
     },
     "execution_count": 1025,
     "metadata": {},
     "output_type": "execute_result"
    }
   ],
   "source": [
    "# I/O\n",
    "# ---\n",
    "import os\n",
    "import pandas as pd\n",
    "\n",
    "CWD = os.getcwd()\n",
    "DIR = '/WikiPhrases'\n",
    "load_file = 'wiki_phrases.csv' #  'wiki_phrases.json'\n",
    "save_file = 'wiki_phrases_clean.csv'\n",
    "load_path =  CWD + os.path.join(DIR, load_file)\n",
    "save_path =  CWD + os.path.join(DIR, save_file)\n",
    "\n",
    "print(\"CWD      : {}\".format(CWD))\n",
    "print(\"Load path: {}\".format(load_path))\n",
    "print(\"Save path: {}\".format(save_path))\n",
    "\n",
    "wiki_old = pd.read_csv(load_path)\n",
    "\n",
    "wiki_old.head(4)\n",
    "#wiki_new.to_csv(save_path, index=False)"
   ]
  },
  {
   "cell_type": "code",
   "execution_count": 1026,
   "metadata": {},
   "outputs": [
    {
     "name": "stderr",
     "output_type": "stream",
     "text": [
      "/home/l/.conda/envs/spacy/lib/python3.6/site-packages/pandas/core/indexing.py:537: SettingWithCopyWarning: \n",
      "A value is trying to be set on a copy of a slice from a DataFrame.\n",
      "Try using .loc[row_indexer,col_indexer] = value instead\n",
      "\n",
      "See the caveats in the documentation: http://pandas.pydata.org/pandas-docs/stable/indexing.html#indexing-view-versus-copy\n",
      "  self.obj[item] = s\n",
      "/home/l/.conda/envs/spacy/lib/python3.6/site-packages/pandas/core/indexing.py:357: SettingWithCopyWarning: \n",
      "A value is trying to be set on a copy of a slice from a DataFrame.\n",
      "Try using .loc[row_indexer,col_indexer] = value instead\n",
      "\n",
      "See the caveats in the documentation: http://pandas.pydata.org/pandas-docs/stable/indexing.html#indexing-view-versus-copy\n",
      "  self.obj[key] = _infer_fill_value(value)\n"
     ]
    }
   ],
   "source": [
    "# Exploration of specific categories of words\n",
    "# -------------------------------------------\n",
    "from itertools import chain, combinations\n",
    "from operator import itemgetter\n",
    "\n",
    "# Pick categories\n",
    "words = 'Phrases'\n",
    "CATEGORIES = ['Statistics']\n",
    "wiki_temp = wiki_old.loc[wiki_old['Category'].isin(CATEGORIES)]\n",
    "the_phrases = wiki_temp.Phrases\n",
    "\n",
    "\n",
    "# Set condition categories\n",
    "wiki_temp.loc[:,('NumWords')] = the_phrases.str.split().str.len()\n",
    "wiki_temp.loc[:,('Alpha')] = the_phrases.str.replace(\" \",\"\").str.isalpha()\n",
    "wiki_temp.loc[:,('Uppercase')] = the_phrases.str.isupper()\n",
    "\n",
    "# Set conditions dict:\n",
    "conditions = {}\n",
    "conditions[\"NumWords\"] = (wiki_temp[\"NumWords\"] == 1)\n",
    "conditions[\"Alpha\"] = (wiki_temp[\"Alpha\"] == True)\n",
    "conditions[\"Uppercase\"] = (wiki_temp[\"Uppercase\"] == True)\n",
    "cs = conditions.copy() # shortcut\n",
    "\n",
    "\n",
    "# Display occurences for any amount of conditions.\n",
    "# Pure fun\n",
    "def fast_insight(the_phrases, cond, df, head):\n",
    "    \n",
    "    # Get all combinations of conditions\n",
    "    def get_combinations(iterable):\n",
    "        s = list(iterable)\n",
    "        return [cond for cond in chain.from_iterable(combinations(s, r) for r in range(len(s)+1)) if cond]\n",
    "    cond_combinations = get_combinations(cond.keys())\n",
    "    \n",
    "    # Get nr of occurences for all combination of conditions\n",
    "    def proc(nr): \n",
    "        return round((nr/l)*100, 2)\n",
    "    l = len(the_phrases)\n",
    "    insights = []\n",
    "    for c in cond_combinations:\n",
    "        nr_of_conditions = len(c)\n",
    "        cats = \",\".join([cond for cond in c])\n",
    "        conds = [\"cond[c[{}]]\".format(i) for i in range(len(c))]\n",
    "        conds_string = \" & \".join(conds)\n",
    "        nr = eval(\"len(the_phrases[{}])\".format(conds_string))\n",
    "        string = \"{:30} {: 6}{:10}\".format(cats, nr, proc(nr))\n",
    "        insights.append((string,nr))\n",
    "\n",
    "    # Display\n",
    "    print(\"All category words phrases:      {}\\n\".format(l))\n",
    "    for insight in sorted(insights,key=itemgetter(1))[::-1]:\n",
    "        print(insight[0])\n",
    "    print('\\nTo get a series use as (fg.):\\nthe_phrases[cs[\"NumWords\"] & cs[\"Alpha\"]]')\n",
    "    display(df.head(head))\n",
    "\n",
    "# fast_insight(the_phrases, cond=cs, df=wiki_temp, head=3)"
   ]
  },
  {
   "cell_type": "code",
   "execution_count": 1027,
   "metadata": {},
   "outputs": [
    {
     "name": "stdout",
     "output_type": "stream",
     "text": [
      "All category words phrases:      3562\n",
      "\n",
      "Alpha                            2820     79.17\n",
      "NumWords                          478     13.42\n",
      "NumWords,Alpha                    395     11.09\n",
      "Uppercase                          41      1.15\n",
      "NumWords,Uppercase                 40      1.12\n",
      "Alpha,Uppercase                    36      1.01\n",
      "NumWords,Alpha,Uppercase           35      0.98\n",
      "\n",
      "To get a series use as (fg.):\n",
      "the_phrases[cs[\"NumWords\"] & cs[\"Alpha\"]]\n"
     ]
    },
    {
     "data": {
      "text/html": [
       "<div>\n",
       "<style scoped>\n",
       "    .dataframe tbody tr th:only-of-type {\n",
       "        vertical-align: middle;\n",
       "    }\n",
       "\n",
       "    .dataframe tbody tr th {\n",
       "        vertical-align: top;\n",
       "    }\n",
       "\n",
       "    .dataframe thead th {\n",
       "        text-align: right;\n",
       "    }\n",
       "</style>\n",
       "<table border=\"1\" class=\"dataframe\">\n",
       "  <thead>\n",
       "    <tr style=\"text-align: right;\">\n",
       "      <th></th>\n",
       "      <th>Phrases</th>\n",
       "      <th>Category</th>\n",
       "      <th>NumWords</th>\n",
       "      <th>Alpha</th>\n",
       "      <th>Uppercase</th>\n",
       "    </tr>\n",
       "  </thead>\n",
       "  <tbody>\n",
       "    <tr>\n",
       "      <th>1932</th>\n",
       "      <td>1.96</td>\n",
       "      <td>Statistics</td>\n",
       "      <td>1</td>\n",
       "      <td>False</td>\n",
       "      <td>False</td>\n",
       "    </tr>\n",
       "    <tr>\n",
       "      <th>1933</th>\n",
       "      <td>100-year flood</td>\n",
       "      <td>Statistics</td>\n",
       "      <td>2</td>\n",
       "      <td>False</td>\n",
       "      <td>False</td>\n",
       "    </tr>\n",
       "    <tr>\n",
       "      <th>1934</th>\n",
       "      <td>2SLS</td>\n",
       "      <td>Statistics</td>\n",
       "      <td>1</td>\n",
       "      <td>False</td>\n",
       "      <td>True</td>\n",
       "    </tr>\n",
       "  </tbody>\n",
       "</table>\n",
       "</div>"
      ],
      "text/plain": [
       "             Phrases    Category  NumWords  Alpha  Uppercase\n",
       "1932            1.96  Statistics         1  False      False\n",
       "1933  100-year flood  Statistics         2  False      False\n",
       "1934            2SLS  Statistics         1  False       True"
      ]
     },
     "metadata": {},
     "output_type": "display_data"
    }
   ],
   "source": [
    "fast_insight(the_phrases, cond=cs, df=wiki_temp, head=3)\n",
    "# the_phrases[cs[\"Alpha\"] & cs[\"Uppercase\"]]\n",
    "# the_phrases[cs[\"Alpha\"] & cs[\"Uppercase\"]]\n",
    "# the_phrases[~ cs[\"Alpha\"]]\n",
    "# wiki_temp[wiki_temp['Phrases'].str.contains('-')]\n",
    "# wiki_new.Phrases.str.count('-').sum()"
   ]
  },
  {
   "cell_type": "code",
   "execution_count": 1028,
   "metadata": {},
   "outputs": [],
   "source": [
    "import spacy\n",
    "nlp = spacy.load('en_core_web_sm')"
   ]
  },
  {
   "cell_type": "code",
   "execution_count": 1029,
   "metadata": {},
   "outputs": [
    {
     "data": {
      "text/html": [
       "<div>\n",
       "<style scoped>\n",
       "    .dataframe tbody tr th:only-of-type {\n",
       "        vertical-align: middle;\n",
       "    }\n",
       "\n",
       "    .dataframe tbody tr th {\n",
       "        vertical-align: top;\n",
       "    }\n",
       "\n",
       "    .dataframe thead th {\n",
       "        text-align: right;\n",
       "    }\n",
       "</style>\n",
       "<table border=\"1\" class=\"dataframe\">\n",
       "  <thead>\n",
       "    <tr style=\"text-align: right;\">\n",
       "      <th></th>\n",
       "      <th>_lemma</th>\n",
       "      <th>s_lemma</th>\n",
       "      <th>_pos</th>\n",
       "      <th>s_pos</th>\n",
       "      <th>_tag</th>\n",
       "      <th>s_tag</th>\n",
       "      <th>_ent_type</th>\n",
       "      <th>s_ent_type</th>\n",
       "      <th>Phrases</th>\n",
       "      <th>Category</th>\n",
       "      <th>NumWords</th>\n",
       "      <th>splited</th>\n",
       "    </tr>\n",
       "  </thead>\n",
       "  <tbody>\n",
       "    <tr>\n",
       "      <th>0</th>\n",
       "      <td>a priori and a posteriori</td>\n",
       "      <td>a priori and a posteriori</td>\n",
       "      <td>DT FW CC DT JJ</td>\n",
       "      <td>DT FW CC DT JJ</td>\n",
       "      <td>DET X CCONJ DET ADJ</td>\n",
       "      <td>DET X CCONJ DET ADJ</td>\n",
       "      <td></td>\n",
       "      <td></td>\n",
       "      <td>A priori and a posteriori</td>\n",
       "      <td>Biases</td>\n",
       "      <td>5</td>\n",
       "      <td>A priori and a posteriori</td>\n",
       "    </tr>\n",
       "    <tr>\n",
       "      <th>1</th>\n",
       "      <td>abductive reasoning</td>\n",
       "      <td>abductive reasoning</td>\n",
       "      <td>JJ NN</td>\n",
       "      <td>JJ NN</td>\n",
       "      <td>ADJ NOUN</td>\n",
       "      <td>ADJ NOUN</td>\n",
       "      <td></td>\n",
       "      <td></td>\n",
       "      <td>Abductive reasoning</td>\n",
       "      <td>Biases</td>\n",
       "      <td>2</td>\n",
       "      <td>Abductive reasoning</td>\n",
       "    </tr>\n",
       "    <tr>\n",
       "      <th>2</th>\n",
       "      <td>abusive fallacy</td>\n",
       "      <td>abusive fallacy</td>\n",
       "      <td>JJ NN</td>\n",
       "      <td>JJ NN</td>\n",
       "      <td>ADJ NOUN</td>\n",
       "      <td>ADJ NOUN</td>\n",
       "      <td>GPE</td>\n",
       "      <td>GPE</td>\n",
       "      <td>Abusive fallacy</td>\n",
       "      <td>Biases</td>\n",
       "      <td>2</td>\n",
       "      <td>Abusive fallacy</td>\n",
       "    </tr>\n",
       "    <tr>\n",
       "      <th>3</th>\n",
       "      <td>abusive power and control</td>\n",
       "      <td>abusive power and control</td>\n",
       "      <td>JJ NN CC NN</td>\n",
       "      <td>JJ NN CC NN</td>\n",
       "      <td>ADJ NOUN CCONJ NOUN</td>\n",
       "      <td>ADJ NOUN CCONJ NOUN</td>\n",
       "      <td></td>\n",
       "      <td></td>\n",
       "      <td>Abusive power and control</td>\n",
       "      <td>Biases</td>\n",
       "      <td>4</td>\n",
       "      <td>Abusive power and control</td>\n",
       "    </tr>\n",
       "    <tr>\n",
       "      <th>4</th>\n",
       "      <td>accent</td>\n",
       "      <td>accent</td>\n",
       "      <td>NNP</td>\n",
       "      <td>NNP</td>\n",
       "      <td>PROPN</td>\n",
       "      <td>PROPN</td>\n",
       "      <td></td>\n",
       "      <td></td>\n",
       "      <td>Accent</td>\n",
       "      <td>Biases</td>\n",
       "      <td>1</td>\n",
       "      <td>Accent</td>\n",
       "    </tr>\n",
       "  </tbody>\n",
       "</table>\n",
       "</div>"
      ],
      "text/plain": [
       "                      _lemma                    s_lemma            _pos  \\\n",
       "0  a priori and a posteriori  a priori and a posteriori  DT FW CC DT JJ   \n",
       "1        abductive reasoning        abductive reasoning           JJ NN   \n",
       "2            abusive fallacy            abusive fallacy           JJ NN   \n",
       "3  abusive power and control  abusive power and control     JJ NN CC NN   \n",
       "4                     accent                     accent             NNP   \n",
       "\n",
       "            s_pos                 _tag                s_tag _ent_type  \\\n",
       "0  DT FW CC DT JJ  DET X CCONJ DET ADJ  DET X CCONJ DET ADJ             \n",
       "1           JJ NN             ADJ NOUN             ADJ NOUN             \n",
       "2           JJ NN             ADJ NOUN             ADJ NOUN      GPE    \n",
       "3     JJ NN CC NN  ADJ NOUN CCONJ NOUN  ADJ NOUN CCONJ NOUN             \n",
       "4             NNP                PROPN                PROPN             \n",
       "\n",
       "  s_ent_type                    Phrases Category  NumWords  \\\n",
       "0             A priori and a posteriori   Biases         5   \n",
       "1                   Abductive reasoning   Biases         2   \n",
       "2       GPE             Abusive fallacy   Biases         2   \n",
       "3             Abusive power and control   Biases         4   \n",
       "4                                Accent   Biases         1   \n",
       "\n",
       "                     splited  \n",
       "0  A priori and a posteriori  \n",
       "1        Abductive reasoning  \n",
       "2            Abusive fallacy  \n",
       "3  Abusive power and control  \n",
       "4                     Accent  "
      ]
     },
     "metadata": {},
     "output_type": "display_data"
    }
   ],
   "source": [
    "# Get spaCy tags for phrases\n",
    "\n",
    "def get_Spacy_tags_for(phrases_column):\n",
    "    lemma = []\n",
    "    pos = []\n",
    "    tag = []\n",
    "    ent_type = []\n",
    "    for doc in nlp.pipe(phrases_column.astype('unicode').values, batch_size=50,\n",
    "                            n_threads=4):\n",
    "        if doc.is_parsed:\n",
    "            lemma_seq = \" \".join([n.lemma_ for n in doc])\n",
    "            tag_seq = \" \".join([n.tag_ for n in doc])\n",
    "            pos_seq = \" \".join([n.pos_ for n in doc])\n",
    "            ent_seq = \" \".join([n.ent_type_ for n in doc])\n",
    "\n",
    "            lemma.append(lemma_seq)\n",
    "            pos.append(tag_seq)\n",
    "            tag.append(pos_seq)\n",
    "            ent_type.append(ent_seq)\n",
    "        else:\n",
    "            lemma.append(None)\n",
    "            pos.append(None)\n",
    "            tag.append(None)\n",
    "            ent_type.append(None)\n",
    "    return lemma, pos, tag, ent_type\n",
    "\n",
    "\n",
    "# 1. Load data\n",
    "wiki_old = pd.read_csv(load_path)\n",
    "\n",
    "# 2. Prepare series for getting tags: (dash-splited and not)\n",
    "wiki_old['splited'] = wiki_old['Phrases'].str.split('–').str.join(\" \").str.split('-').str.join(\" \").map(lambda x: x.strip())\n",
    "phrases_column1 = wiki_old['Phrases']\n",
    "phrases_column2 = wiki_old['splited']\n",
    "\n",
    "# 3a. Run without splitting words on dash\n",
    "lemma, pos, tag, ent_type = get_Spacy_tags_for(phrases_column1)\n",
    "# 3b. Run with splitting words on dash\n",
    "s_lemma, s_pos, s_tag, s_ent_type =  get_Spacy_tags_for(phrases_column2)\n",
    "\n",
    "# 4. Launch new df\n",
    "wiki_new = pd.DataFrame(lemma, columns=['_lemma'])\n",
    "wiki_new['s_lemma'] = s_lemma\n",
    "wiki_new['_pos'] = pos\n",
    "wiki_new['s_pos'] = s_pos\n",
    "wiki_new['_tag'] = tag\n",
    "wiki_new['s_tag'] = s_tag\n",
    "wiki_new['_ent_type'] = ent_type\n",
    "wiki_new['s_ent_type'] = s_ent_type\n",
    "\n",
    "# # 4x. One more run on lemmanised split:\n",
    "# phrases_column2 = wiki_old['s_lemma']\n",
    "\n",
    "\n",
    "# 5. Add old columns\n",
    "for column in wiki_old.columns:\n",
    "     wiki_new[column] = wiki_old.pop(column)\n",
    "\n",
    "# 6. Save to csv\n",
    "wiki_new.to_csv(save_path, index=False)\n",
    "display(wiki_new.head(5))\n",
    "\n",
    "\n",
    "# UNTESTED \n",
    "# To load script:\n",
    "def load_wiki_new(save_path):\n",
    "    wn = pd.read_csv(save_path)\n",
    "    wn.index = wn.iloc[:,0].values\n",
    "    wn = wn.iloc[:,1:]\n",
    "    display(wn.head(5))\n",
    "    return wn\n",
    "# UNTESTED \n",
    "#wn = load_wiki_new(save_path)"
   ]
  },
  {
   "cell_type": "code",
   "execution_count": 1040,
   "metadata": {},
   "outputs": [
    {
     "name": "stdout",
     "output_type": "stream",
     "text": [
      "Noapha characters: 554\n",
      "Noapha ocurences: 17464\n",
      "\n",
      "Char      Count          Cells with     percentage distribution without 1st example (usually a space)\n",
      "----------------------------------------------------------------------------------------------------\n",
      "space     15090          9054                          \n",
      "-         680            625                      28.64\n",
      "'         490            483                      20.64\n",
      "–         392            360                      16.51\n",
      ".         152            TBD                        6.4\n",
      ",         50             40                        2.11\n",
      "/         32             25                        1.35\n",
      "&         12             12                        0.51\n",
      "’         8              8                         0.34\n",
      ":         6              6                         0.25\n",
      "=         5              5                         0.21\n",
      "+         3              TBD                       0.13\n",
      ")         2              TBD                       0.08\n",
      "(         2              TBD                       0.08\n",
      "\n",
      "space exists in 9054 cellstrings fg.:\n",
      "-----\n",
      "- Evolutionary psychology\n",
      "- Cogito ergo sum\n",
      "- Menzies Research Centre\n",
      "\n",
      "\n",
      "\n",
      "- exists in 625 cellstrings fg.:\n",
      "-----\n",
      "- NP = co-NP problem\n",
      "- Open-label trial\n",
      "- Hyper-exponential distribution\n",
      "\n",
      "\n",
      "\n",
      "' exists in 483 cellstrings fg.:\n",
      "-----\n",
      "- Erb's palsy\n",
      "- Welch's method\n",
      "- Kirillov's conjecture\n",
      "\n",
      "\n",
      "\n",
      "– exists in 360 cellstrings fg.:\n",
      "-----\n",
      "- Hammersley–Clifford theorem\n",
      "- De Moivre–Laplace theorem\n",
      "- Cochran–Mantel–Haenszel statistics\n",
      "\n",
      "\n",
      "\n",
      ". exists in TBD cellstrings fg.:\n",
      "-----\n",
      "- T\n",
      "- B\n",
      "- D\n",
      "\n",
      "\n",
      "\n",
      ", exists in 40 cellstrings fg.:\n",
      "-----\n",
      "- Indian Institute of Science, Bangalore\n",
      "- International Society for Analysis, its Applications and Computation\n",
      "- William J. Brennan, Jr., Award\n",
      "\n",
      "\n",
      "\n",
      "/ exists in 25 cellstrings fg.:\n",
      "-----\n",
      "- PEN/Katherine Anne Porter First Amendment Award\n",
      "- HIV/AIDS denialism\n",
      "- G/G/1 queue\n",
      "\n",
      "\n",
      "\n",
      "& exists in 12 cellstrings fg.:\n",
      "-----\n",
      "- British Association for International & Comparative Education\n",
      "- Americana Music Honors & Awards\n",
      "- Society of Clinical Child & Adolescent Psychology\n",
      "\n",
      "\n",
      "\n",
      "’ exists in 8 cellstrings fg.:\n",
      "-----\n",
      "- Janson and Vegelius’ C\n",
      "- Brennan and Prediger’s κ\n",
      "- Stouffer’s Z\n",
      "\n",
      "\n",
      "\n",
      ": exists in 6 cellstrings fg.:\n",
      "-----\n",
      "- Urban Legends: Bloody Mary\n",
      "- ICD-10 Chapter V: Mental and behavioural disorders\n",
      "- ICD-10 Chapter VI: Diseases of the nervous system\n",
      "\n",
      "\n",
      "\n",
      "= exists in 5 cellstrings fg.:\n",
      "-----\n",
      "- NC = P problem\n",
      "- NP = co-NP problem\n",
      "- P = PSPACE problem\n",
      "\n",
      "\n",
      "\n",
      "+ exists in TBD cellstrings fg.:\n",
      "-----\n",
      "- T\n",
      "- B\n",
      "- D\n",
      "\n",
      "\n",
      "\n",
      ") exists in TBD cellstrings fg.:\n",
      "-----\n",
      "- T\n",
      "- B\n",
      "- D\n",
      "\n",
      "\n",
      "\n",
      "( exists in TBD cellstrings fg.:\n",
      "-----\n",
      "- T\n",
      "- B\n",
      "- D\n",
      "\n",
      "\n",
      "\n",
      "Other characters (540)\n",
      "----------------\n",
      "['⚚', '\\U0001f9ec', '⛏', '⛷', '☷', '\\U0001f929', '⛶', '⛖', '♻', '⚯', '\\U0001f94f', '⛡', '🥘', '⚎', '⚾', '😳', '😵', '⚪', '🙊', '⚀', '\\U0001f96c', '\\U0001f97e', '😍', '♯', '\\U0001f9c2', '🤡', '😱', '☤', '⚆', '⚈', '☜', '⚢', '⚳', '😢', '\\U0001f9b6', '♔', '⛁', '\\U0001f9de', '😣', '🦑', '🦅', '🥒', '\\U0001f9d5', '⛥', '⚵', '\\U0001f999', '♼', '🤴', '🥜', '😜', '☝', '😸', '⛵', '🦐', '⚗', '😋', '\\U0001f960', '⚦', '☦', '😹', '😑', '⛌', '\\U0001f9d0', '😃', '☪', '☣', '☂', '😨', '🥛', '🙎', '😬', '⚮', '\\U0001f9dd', '\\U0001f964', '\\U0001f9f8', '♐', '⚕', '🦉', '\\U0001f99d', '☊', '🤤', '☏', '🤼', '\\U0001f9d6', '⛉', '\\U0001f9fd', '😊', '🤧', '☿', '🦏', '\\U0001f9a2', '\\U0001f9b4', '🙋', '☬', '🤳', '⛴', '☯', '😿', '⚇', '⚱', '😮', '☋', '🤘', '♓', '\\U0001f963', '⛇', '\\U0001f9b3', '😼', '\\U0001f967', '⚻', '⛼', '♏', '\\U0001f9e4', '♘', '😕', '🙈', '🥆', '♗', '🙄', '\\U0001f9c1', '\\U0001f9df', '😺', '⛔', '🙇', '⚶', '🙉', '\\U0001f9f6', '\\U0001f970', '⚃', '\\U0001f97c', '☒', '\\U0001f92b', '☀', '😙', '😯', '☱', '🥓', '⚊', '🤙', '\\U0001f9d8', '\\U0001f905', '\\U0001f906', '⚋', '⚡', '\\U0001f96b', '\\U0001f995', '♙', '⚰', '😲', '\\U0001f9b2', '⛿', '⛸', '🙂', '😓', '🥅', '\\U0001f92e', '⚉', '☍', '☇', '🙍', '⚙', '☛', '⚤', '♴', '☹', '♉', '\\U0001f9fa', '⛱', '🤗', '🤚', '⚌', '😻', '😠', '⛲', '🙅', '🤦', '☥', '🤢', '⛠', '⚿', '♇', '⛛', '😫', '\\U0001f90a', '⛫', '⚅', '☞', '\\U0001f9b9', '\\U0001f9da', '🤒', '⛤', '♷', '😉', '\\U0001f9eb', '🤠', '🥚', '🤹', '⛺', '\\U0001f9a1', '🤞', '🙀', '?', '\\U0001f961', '😭', '\\U0001f9e7', '♒', '😗', '😞', '😄', '\\U0001f92c', '🤓', '🥉', '\\U0001f928', '⛟', '♊', '🤻', '⛊', '😐', '⚐', '⚺', '⚝', '⛾', '🤔', '\\U0001f96e', '⛒', '⛨', '♈', '🦁', '⛎', '😩', '🥇', '♀', '🦆', '🥑', '\\U0001f9d3', '🥋', '☖', '\\U0001f9ef', '⛬', '⛽', '♞', '\\U0001f962', '⛃', '♁', '\\U0001f9f7', '⚴', '😅', '😧', '\\U0001f966', '🥖', '🤜', '🥃', '\\U0001f907', '⚧', '\\U0001f94c', '♃', '☉', '⛓', '⚞', '⛞', '😆', '⛍', '🤑', '♸', '⛝', '⛜', '⛧', '⚛', '!', '☁', '🤥', '😤', '\\U0001f9ea', '⛚', '\\U0001f9d9', '⛗', '⛯', '☡', '🥄', '⚲', '⚏', '\\U0001f9fc', '\\U0001f993', '♜', '☌', '\\U0001f96a', '⛦', '\\U0001f931', '\\U0001f9e3', '♬', '🦃', '♿', '⛆', '♅', '\\U0001f994', '⛮', '😰', '😈', '☕', '\\U0001f9e2', '\\U0001f96d', '\\U0001f965', '🤐', '🤣', '⚍', '\\U0001f9d7', '\\U0001f99a', '♰', '⛣', '☼', '\\U0001f932', '😥', '🤽', '😌', '\\U0001f9b0', '🙃', '😀', '🤾', '😝', '🦌', '♛', '😽', '⛈', '♱', '\\U0001f96f', '🦊', '\\U0001f902', '😒', '\\U0001f90b', '⛕', '☸', '♹', '⚑', '⚂', '\\U0001f9b7', '🥈', '😘', '🥂', '\\U0001f97d', '⛰', '☓', '☫', '🦎', '\\U0001f973', '🥕', '\\U0001f9fb', '⛂', '🤖', '😦', '☩', '☶', '⛐', '😪', '🤛', '😛', '\\U0001f9fe', '⚭', '😔', '🦈', '\\U0001f908', '😇', '⚠', '☨', '🙆', '🤰', '😁', '\\U0001f974', '⛄', '\\U0001f904', '🦋', '\\U0001f900', '\\U0001f992', '⛙', '☺', '\\U0001f9d1', '☢', '♆', '\\U0001f969', '\\U0001f9e1', '☈', '⛘', '\\U0001f94d', '☾', '⚥', '\\U0001f9f1', '\\U0001f9a0', '☙', '⚒', '☆', '\\U0001f9db', '\\U0001f9d4', '🙌', '☚', '♝', '\\U0001f94e', '⚸', '♵', '\\U0001f9e8', '♑', '\\U0001f9f5', '♚', '☔', '🥁', '\\U0001f9e9', '⛢', '⛀', '\\U0001f92f', '\\U0001f903', '😎', '⚷', '⛭', '⛑', '\\U0001f968', '⚽', '☵', '🦇', '♺', '⛅', '\\U0001f909', '♖', '♂', '\\U0001f97f', '\\U0001f9d2', '♪', '⛪', '\\U0001f9ee', '🥙', '\\U0001f99b', '☻', '🥝', '♾', '☴', '\\U0001f9e0', '🤷', '♭', '☎', '\\U0001f9b1', '♄', '♫', '♍', '\\U0001f95f', '🦀', '⚖', '⚣', '🥞', '⚬', '😖', '😟', '\\U0001f9b8', '\\U0001f9ed', '\\U0001f975', '⛳', '⛹', '\\U0001f9f2', '🤶', '☟', '😶', '☭', '⚔', '⚨', '☑', '\\U0001f9e6', '⛋', '🦂', '🥔', '\\U0001f976', '♲', '\\U0001f997', '♳', '😏', '\\U0001f998', '★', '🦄', '\\U0001f99f', '☐', '⚄', '🤝', '🙁', '⚜', '\\U0001f92a', '🤕', '🥊', '♮', '☧', '☗', '♕', '\\U0001f9f9', '♩', '⚹', '🤵', '🥗', '😾', '☘', '😡', '\\U0001f91f', '🤸', '🙏', '☰', '\\U0001f99c', '😷', '🥐', '\\U0001f97a', '♌', '\\U0001f9b5', '⚟', '😂', '🦍', '⚩', '☽', '☮', '\\U0001f996', '\\U0001f901', '☳', '⛻', '☃', '♟', '\\U0001f99e', '😴', '\\U0001f9ff', '😚', '⚁', '♨', '\\U0001f9e5', '\\U0001f9f4', '⚼', '♽', '\\U0001f9f3', '♎', '☄', '⚓', '♶', '☲', '🤺', '⛩', '🧀', '♋', '\\U0001f9f0', '⚘', '\\U0001f92d', '🥀']\n"
     ]
    }
   ],
   "source": [
    "import re\n",
    "from operator import itemgetter\n",
    "import pandas as pd\n",
    "import random\n",
    "\n",
    "def find_noalpha_in_string(phrase):\n",
    "    matches = []\n",
    "    for p in [r'\\W']:\n",
    "        match= re.findall(p, phrase)\n",
    "        matches.append(match)\n",
    "    return matches[0]\n",
    "\n",
    "def find_noalpha_in_col(df, string_column):\n",
    "    df[\"Temp\"] = string_column.apply(find_noalpha_in_string)\n",
    "    all_chars = []\n",
    "    for each in df[\"Temp\"]:\n",
    "        all_chars.extend(each)\n",
    "    uniq_chars = set(all_chars)\n",
    "    print(\"Noapha characters:\", len(uniq_chars))\n",
    "    print(\"Noapha ocurences:\", len(all_chars))\n",
    "    del df[\"Temp\"]\n",
    "    return uniq_chars, all_chars\n",
    "\n",
    "def get_cells_with(df, string_column, char, get_items_base):\n",
    "    cells_with = []\n",
    "    try:\n",
    "        cells_with = df[string_column.str.contains(char)][string_column.name].tolist()\n",
    "        nr_cells = len(cells_with)\n",
    "        get_items = get_items_base if nr_cells >= 3 else nr_cells\n",
    "        exmples = random.sample(cells_with, get_items)\n",
    "    except:\n",
    "        nr_cells = 'TBD'\n",
    "        exmples = 'TBD'\n",
    "    # dot bug to fix\n",
    "    if char is '.':\n",
    "        nr_cells = 'TBD'\n",
    "        exmples = 'TBD'\n",
    "    return nr_cells, exmples\n",
    "\n",
    "def occurences_distribution(uniq_chars, all_chars):\n",
    "    occurences = []\n",
    "    occurences_no_space = []\n",
    "    all_chars2 = [i for i in all_chars if i[0] != ' ']\n",
    "    for char in uniq_chars:\n",
    "        nr_cells, exmples = get_cells_with(df, string_column, char, get_items_base)\n",
    "        occurences.append([\n",
    "                           char, \n",
    "                           all_chars.count(char),\n",
    "                           nr_cells,\n",
    "                           #round(all_chars.count(char)*100/len(all_chars),4),\n",
    "                           round(all_chars.count(char)*100/len(all_chars2),2),\n",
    "                           exmples,  \n",
    "                          ])\n",
    "    occ = sorted(occurences,key=itemgetter(1))[::-1]\n",
    "    for i in range(len(occ)):\n",
    "        if occ[i][0] is ' ':\n",
    "            occ[i][0] = 'space'\n",
    "    occ[0][3] = \"\"\n",
    "    return occ\n",
    "\n",
    "# Display function\n",
    "def display_results(dist, count_minima, display_limit):\n",
    "    columns = [\"Char\", \"Count\", \"Cells with\", \"percentage distribution without 1st example (usually a space)\", (\"-\"*100)]\n",
    "    print(\"\\n{:<10}{:<15}{:<15}{:<15}\\n{}\".format(*columns))\n",
    "    n = 0\n",
    "    char_example = []\n",
    "    for char, cnt, nrc, p, ex in dist:\n",
    "        \n",
    "        if display_limit:\n",
    "            if n > display_limit: continue\n",
    "            else: n+=1\n",
    "                \n",
    "        elif count_minima: \n",
    "            if cnt < count_minima: continue\n",
    "            else: n+=1\n",
    "                \n",
    "        char_example.append((char, nrc, ex))\n",
    "        print(\"{:<10}{:<15}{:<15}{:15}\".format(char, cnt, nrc, p))\n",
    "    \n",
    "    for ch, nrc, exa in char_example:\n",
    "        example = \"\\n- \".join(exa)\n",
    "        print(\"\\n{} exists in {} cellstrings fg.:\\n-----\\n- {}\\n\\n\".format(ch, nrc, example))\n",
    "        \n",
    "    \n",
    "    dist_below_minima = [d[0] for d in dist[n:]]\n",
    "    below_len = len(dist_below_minima)\n",
    "    print(\"\\nOther characters ({})\\n----------------\\n{}\".format(below_len, dist_below_minima))\n",
    "\n",
    "    \n",
    "\n",
    "# Parameters\n",
    "# ----------\n",
    "\n",
    "# Chosen dataframe\n",
    "df = wiki_new\n",
    "# Chosen string column/series\n",
    "string_column = df.Phrases\n",
    "\n",
    "\n",
    "# Display if count is above: INT  (None - turn off)\n",
    "count_minima = 2         \n",
    "# Display only INT top occurence characters  (None - turn off)\n",
    "display_limit = None\n",
    "# Display examples limit: INT  (None - turn off)\n",
    "get_items_base = 3\n",
    "\n",
    "# True to activate\n",
    "run = True               \n",
    "\n",
    "# Run\n",
    "if run:\n",
    "    uniq_chars, all_chars = find_noalpha_in_col(df, string_column)\n",
    "    dist  = occurences_distribution(uniq_chars, all_chars)  \n",
    "    display_results(dist, count_minima, display_limit)"
   ]
  },
  {
   "cell_type": "code",
   "execution_count": 1129,
   "metadata": {},
   "outputs": [
    {
     "name": "stdout",
     "output_type": "stream",
     "text": [
      "Records in df: 12813\n",
      "Records in df: 12806\n",
      "Records in df: 12752\n",
      "Records in df: 12739\n",
      "Records in df: 12732\n",
      "Records in df: 12722\n",
      "Records in df: 12716\n",
      "Records in df: 12708\n",
      "Records in df: 12702\n",
      "Records in df: 12695\n",
      "Records in df: 12641\n",
      "Records in df: 12639\n",
      "Records in df: 12604\n",
      "Records in df: 12407\n",
      "Records in df: 12401\n",
      "Records in df: 12400\n",
      "Records in df: 12386\n",
      "Records in df: 12363\n",
      "Records in df: 12355\n",
      "Records in df: 12355\n",
      "Records in df: 12355\n",
      "Records in df: 11817 that is 92.23% of original.\n"
     ]
    },
    {
     "name": "stderr",
     "output_type": "stream",
     "text": [
      "/home/l/.conda/envs/spacy/lib/python3.6/site-packages/ipykernel_launcher.py:59: SettingWithCopyWarning: \n",
      "A value is trying to be set on a copy of a slice from a DataFrame.\n",
      "Try using .loc[row_indexer,col_indexer] = value instead\n",
      "\n",
      "See the caveats in the documentation: http://pandas.pydata.org/pandas-docs/stable/indexing.html#indexing-view-versus-copy\n"
     ]
    },
    {
     "data": {
      "text/html": [
       "<div>\n",
       "<style scoped>\n",
       "    .dataframe tbody tr th:only-of-type {\n",
       "        vertical-align: middle;\n",
       "    }\n",
       "\n",
       "    .dataframe tbody tr th {\n",
       "        vertical-align: top;\n",
       "    }\n",
       "\n",
       "    .dataframe thead th {\n",
       "        text-align: right;\n",
       "    }\n",
       "</style>\n",
       "<table border=\"1\" class=\"dataframe\">\n",
       "  <thead>\n",
       "    <tr style=\"text-align: right;\">\n",
       "      <th></th>\n",
       "      <th>_lemma</th>\n",
       "      <th>s_lemma</th>\n",
       "      <th>_pos</th>\n",
       "      <th>s_pos</th>\n",
       "      <th>_tag</th>\n",
       "      <th>s_tag</th>\n",
       "      <th>_ent_type</th>\n",
       "      <th>s_ent_type</th>\n",
       "      <th>Phrases</th>\n",
       "      <th>Category</th>\n",
       "      <th>NumWords</th>\n",
       "      <th>splited</th>\n",
       "      <th>s_NumWords</th>\n",
       "    </tr>\n",
       "  </thead>\n",
       "  <tbody>\n",
       "    <tr>\n",
       "      <th>0</th>\n",
       "      <td>a priori and a posteriori</td>\n",
       "      <td>a priori and a posteriori</td>\n",
       "      <td>DT FW CC DT JJ</td>\n",
       "      <td>DT FW CC DT JJ</td>\n",
       "      <td>DET X CCONJ DET ADJ</td>\n",
       "      <td>DET X CCONJ DET ADJ</td>\n",
       "      <td></td>\n",
       "      <td></td>\n",
       "      <td>A priori and a posteriori</td>\n",
       "      <td>Biases</td>\n",
       "      <td>5</td>\n",
       "      <td>A priori and a posteriori</td>\n",
       "      <td>5</td>\n",
       "    </tr>\n",
       "    <tr>\n",
       "      <th>1</th>\n",
       "      <td>abductive reasoning</td>\n",
       "      <td>abductive reasoning</td>\n",
       "      <td>JJ NN</td>\n",
       "      <td>JJ NN</td>\n",
       "      <td>ADJ NOUN</td>\n",
       "      <td>ADJ NOUN</td>\n",
       "      <td></td>\n",
       "      <td></td>\n",
       "      <td>Abductive reasoning</td>\n",
       "      <td>Biases</td>\n",
       "      <td>2</td>\n",
       "      <td>Abductive reasoning</td>\n",
       "      <td>2</td>\n",
       "    </tr>\n",
       "  </tbody>\n",
       "</table>\n",
       "</div>"
      ],
      "text/plain": [
       "                      _lemma                    s_lemma            _pos  \\\n",
       "0  a priori and a posteriori  a priori and a posteriori  DT FW CC DT JJ   \n",
       "1        abductive reasoning        abductive reasoning           JJ NN   \n",
       "\n",
       "            s_pos                 _tag                s_tag _ent_type  \\\n",
       "0  DT FW CC DT JJ  DET X CCONJ DET ADJ  DET X CCONJ DET ADJ             \n",
       "1           JJ NN             ADJ NOUN             ADJ NOUN             \n",
       "\n",
       "  s_ent_type                    Phrases Category  NumWords  \\\n",
       "0             A priori and a posteriori   Biases         5   \n",
       "1                   Abductive reasoning   Biases         2   \n",
       "\n",
       "                     splited  s_NumWords  \n",
       "0  A priori and a posteriori           5  \n",
       "1        Abductive reasoning           2  "
      ]
     },
     "metadata": {},
     "output_type": "display_data"
    }
   ],
   "source": [
    "# Drop PERSON entities from non-person word groups\n",
    "# -----------------------------------------------\n",
    "\n",
    "# Problems:\n",
    "# - lot of phrases got 1 of words tagget as a PERSON, especialy named alghoritms, techniques, uppercases etc.\n",
    "# - keep vs leave dash on 625 cells\n",
    "# - lot of names and not names got tagged wrong (obviously)\n",
    "# - other minor problems and time needed to take care about them all\n",
    "\n",
    "wiki_new[\"s_NumWords\"] = wiki_new.s_lemma.str.split().str.len()\n",
    "wiki_temp = wiki_new.copy(deep=True)\n",
    "print(\"Records in df:\", len(wiki_temp))\n",
    "\n",
    "\n",
    "# Columns where PERSON entity is not wanted TAG (in oppose to fg Star names, mostny tagged as PERSON).\n",
    "# Funny...\n",
    "drop_group1 = ['Emotions','PsychoDisciplines', 'Statistics', 'Animans', 'Hobbies',\n",
    "              'UrbanLegends', 'Symbols','PseudoDiagnoses','Awards','PsychoResearch',\n",
    "              'Disorders','Dances','Challanges','SocialMovements']\n",
    "\n",
    "\n",
    "actv = True\n",
    "if actv:\n",
    "    for category in drop_group:\n",
    "        # Conditions:\n",
    "        a = (wiki_temp[\"s_NumWords\"] != 1)\n",
    "        b = (wiki_temp['s_ent_type'].str.count(\"PERSON\") == wiki_temp[\"s_NumWords\"])\n",
    "        c = (wiki_temp['Category'] == category)#'Awards')\n",
    "        if category is not 'Awards':\n",
    "            wiki_temp = wiki_temp.drop(wiki_temp[a & b & c].index).reset_index(drop=True)\n",
    "        else:\n",
    "            d = (wiki_temp['Phrases'].str.lower().str.contains('award') == False)\n",
    "            e = (wiki_temp['Phrases'].str.lower().str.contains('prize') == False) \n",
    "            wiki_temp = wiki_temp.drop(wiki_temp[a & b & c & d & e].index).reset_index(drop=True)\n",
    "        print(\"Records in df:\", len(wiki_temp))\n",
    "\n",
    "\n",
    "# So i saved much time by just copying same code for org and inspecting dropped items.\n",
    "\n",
    "# however with Challanges it's realy good idea to change Category name for Organisations.\n",
    "drop_group2_special = ['Challanges', 'Biases']\n",
    "# after quick review i found out ORG removal works best for OUT categories. \n",
    "# Plus 'Challanges', 'Biases' categories to be renamed.\n",
    "drop_group2 = ['Emotions', 'PseudoDiagnoses', 'Disorders', 'NegDisability', 'Challanges', 'Biases']\n",
    "\n",
    "drpd = []\n",
    "actv = True\n",
    "if actv:\n",
    "    for category in drop_group2:\n",
    "        # Conditions:\n",
    "        a = (wiki_temp[\"s_NumWords\"] != 1)\n",
    "        b = (wiki_temp['s_ent_type'].str.count(\"ORG\") == wiki_temp[\"s_NumWords\"])\n",
    "        c = (wiki_temp['Category'] == category)#'Awards')\n",
    "        if category is not 'Awards':\n",
    "            dropedA = wiki_temp[a & b & c]['Phrases'].tolist()\n",
    "            dropedB = wiki_temp[a & b & c]['Category'].tolist()\n",
    "            drpd.extend((list(zip(dropedA,dropedB))))\n",
    "            if category in drop_group2_special:\n",
    "                wiki_temp[a & b & c]['Category'] = 'Organisations'\n",
    "            else:\n",
    "                wiki_temp = wiki_temp.drop(wiki_temp[a & b & c].index).reset_index(drop=True)\n",
    "        else:\n",
    "            d = (wiki_temp['Phrases'].str.lower().str.contains('award') == False)\n",
    "            e = (wiki_temp['Phrases'].str.lower().str.contains('prize') == False)\n",
    "            dropedA = wiki_temp[a & b & c]['Phrases'].tolist()\n",
    "            dropedB = wiki_temp[a & b & c]['Category'].tolist()\n",
    "            drpd.extend((list(zip(dropedA,dropedB))))\n",
    "            wiki_temp = wiki_temp.drop(wiki_temp[a & b & c & d & e].index).reset_index(drop=True)\n",
    "\n",
    "        \n",
    "        print(\"Records in df:\", len(wiki_temp))\n",
    "\n",
    "# Also emoteicons-drop\n",
    "a = (wiki_temp['Phrases'].str.len() == 1)\n",
    "b = (wiki_temp['Category'] == 'Emotions')\n",
    "wiki_temp = wiki_temp.drop(wiki_temp[a & b].index).reset_index(drop=True)\n",
    "perc = round(len(wiki_temp)/len(wiki_new)*100, 2)\n",
    "print(\"Records in df: {} that is {}% of original.\".format( len(wiki_temp), perc))\n",
    "\n",
    "# Inspect dropped\n",
    "#for i in drpd:\n",
    "#    print(\"{:<50}{}\".format(i[0], i[1]))\n",
    "    \n",
    "display(wiki_temp.head(2))\n",
    "\n"
   ]
  },
  {
   "cell_type": "code",
   "execution_count": 1137,
   "metadata": {},
   "outputs": [],
   "source": [
    "wiki_ent_fix = wiki_temp.copy(deep=True)\n",
    "save_path =  CWD + os.path.join(DIR, 'wiki_phrases_clean_no_pENT.csv')\n",
    "wiki_ent_fix.to_csv(save_path, index=False)\n"
   ]
  },
  {
   "cell_type": "code",
   "execution_count": 1571,
   "metadata": {},
   "outputs": [
    {
     "name": "stdout",
     "output_type": "stream",
     "text": [
      "22 Categories types:\n",
      "\n",
      "['Biases', 'FalseAuthor', 'Emotions', 'PsychoDisciplines', 'HinduSpace', 'Statistics', 'PseudoSciences', 'Animans', 'Hobbies', 'CosmosNames', 'NegDisability', 'UrbanLegends', 'Symbols', 'Organisations', 'PseudoDiagnoses', 'Awards', 'PsychoResearch', 'Disorders', 'Dances', 'Challanges', 'BiblNames', 'SocialMovements']\n",
      "\n",
      "\n",
      "13 # of words types:\n",
      "\n",
      "[ 1  2  3  4  5  6  7  8  9 10 11 12 14]\n",
      "\n",
      "\n"
     ]
    },
    {
     "data": {
      "text/html": [
       "<div>\n",
       "<style scoped>\n",
       "    .dataframe tbody tr th:only-of-type {\n",
       "        vertical-align: middle;\n",
       "    }\n",
       "\n",
       "    .dataframe tbody tr th {\n",
       "        vertical-align: top;\n",
       "    }\n",
       "\n",
       "    .dataframe thead th {\n",
       "        text-align: right;\n",
       "    }\n",
       "</style>\n",
       "<table border=\"1\" class=\"dataframe\">\n",
       "  <thead>\n",
       "    <tr style=\"text-align: right;\">\n",
       "      <th></th>\n",
       "      <th>_lemma</th>\n",
       "      <th>s_lemma</th>\n",
       "      <th>_pos</th>\n",
       "      <th>s_pos</th>\n",
       "      <th>_tag</th>\n",
       "      <th>s_tag</th>\n",
       "      <th>_ent_type</th>\n",
       "      <th>s_ent_type</th>\n",
       "      <th>Phrases</th>\n",
       "      <th>Category</th>\n",
       "      <th>splited</th>\n",
       "      <th>s_NumWords</th>\n",
       "    </tr>\n",
       "    <tr>\n",
       "      <th>NumWords</th>\n",
       "      <th></th>\n",
       "      <th></th>\n",
       "      <th></th>\n",
       "      <th></th>\n",
       "      <th></th>\n",
       "      <th></th>\n",
       "      <th></th>\n",
       "      <th></th>\n",
       "      <th></th>\n",
       "      <th></th>\n",
       "      <th></th>\n",
       "      <th></th>\n",
       "    </tr>\n",
       "  </thead>\n",
       "  <tbody>\n",
       "    <tr>\n",
       "      <th>1</th>\n",
       "      <td>3218</td>\n",
       "      <td>3218</td>\n",
       "      <td>3218</td>\n",
       "      <td>3218</td>\n",
       "      <td>3218</td>\n",
       "      <td>3218</td>\n",
       "      <td>3218</td>\n",
       "      <td>3218</td>\n",
       "      <td>3218</td>\n",
       "      <td>3218</td>\n",
       "      <td>3218</td>\n",
       "      <td>3218</td>\n",
       "    </tr>\n",
       "    <tr>\n",
       "      <th>2</th>\n",
       "      <td>5277</td>\n",
       "      <td>5277</td>\n",
       "      <td>5277</td>\n",
       "      <td>5277</td>\n",
       "      <td>5277</td>\n",
       "      <td>5277</td>\n",
       "      <td>5277</td>\n",
       "      <td>5277</td>\n",
       "      <td>5277</td>\n",
       "      <td>5277</td>\n",
       "      <td>5277</td>\n",
       "      <td>5277</td>\n",
       "    </tr>\n",
       "    <tr>\n",
       "      <th>3</th>\n",
       "      <td>1978</td>\n",
       "      <td>1978</td>\n",
       "      <td>1978</td>\n",
       "      <td>1978</td>\n",
       "      <td>1978</td>\n",
       "      <td>1978</td>\n",
       "      <td>1978</td>\n",
       "      <td>1978</td>\n",
       "      <td>1978</td>\n",
       "      <td>1978</td>\n",
       "      <td>1978</td>\n",
       "      <td>1978</td>\n",
       "    </tr>\n",
       "    <tr>\n",
       "      <th>4</th>\n",
       "      <td>709</td>\n",
       "      <td>709</td>\n",
       "      <td>709</td>\n",
       "      <td>709</td>\n",
       "      <td>709</td>\n",
       "      <td>709</td>\n",
       "      <td>709</td>\n",
       "      <td>709</td>\n",
       "      <td>709</td>\n",
       "      <td>709</td>\n",
       "      <td>709</td>\n",
       "      <td>709</td>\n",
       "    </tr>\n",
       "    <tr>\n",
       "      <th>5</th>\n",
       "      <td>320</td>\n",
       "      <td>320</td>\n",
       "      <td>320</td>\n",
       "      <td>320</td>\n",
       "      <td>320</td>\n",
       "      <td>320</td>\n",
       "      <td>320</td>\n",
       "      <td>320</td>\n",
       "      <td>320</td>\n",
       "      <td>320</td>\n",
       "      <td>320</td>\n",
       "      <td>320</td>\n",
       "    </tr>\n",
       "    <tr>\n",
       "      <th>6</th>\n",
       "      <td>166</td>\n",
       "      <td>166</td>\n",
       "      <td>166</td>\n",
       "      <td>166</td>\n",
       "      <td>166</td>\n",
       "      <td>166</td>\n",
       "      <td>166</td>\n",
       "      <td>166</td>\n",
       "      <td>166</td>\n",
       "      <td>166</td>\n",
       "      <td>166</td>\n",
       "      <td>166</td>\n",
       "    </tr>\n",
       "    <tr>\n",
       "      <th>7</th>\n",
       "      <td>84</td>\n",
       "      <td>84</td>\n",
       "      <td>84</td>\n",
       "      <td>84</td>\n",
       "      <td>84</td>\n",
       "      <td>84</td>\n",
       "      <td>84</td>\n",
       "      <td>84</td>\n",
       "      <td>84</td>\n",
       "      <td>84</td>\n",
       "      <td>84</td>\n",
       "      <td>84</td>\n",
       "    </tr>\n",
       "    <tr>\n",
       "      <th>8</th>\n",
       "      <td>42</td>\n",
       "      <td>42</td>\n",
       "      <td>42</td>\n",
       "      <td>42</td>\n",
       "      <td>42</td>\n",
       "      <td>42</td>\n",
       "      <td>42</td>\n",
       "      <td>42</td>\n",
       "      <td>42</td>\n",
       "      <td>42</td>\n",
       "      <td>42</td>\n",
       "      <td>42</td>\n",
       "    </tr>\n",
       "    <tr>\n",
       "      <th>9</th>\n",
       "      <td>10</td>\n",
       "      <td>10</td>\n",
       "      <td>10</td>\n",
       "      <td>10</td>\n",
       "      <td>10</td>\n",
       "      <td>10</td>\n",
       "      <td>10</td>\n",
       "      <td>10</td>\n",
       "      <td>10</td>\n",
       "      <td>10</td>\n",
       "      <td>10</td>\n",
       "      <td>10</td>\n",
       "    </tr>\n",
       "    <tr>\n",
       "      <th>10</th>\n",
       "      <td>5</td>\n",
       "      <td>5</td>\n",
       "      <td>5</td>\n",
       "      <td>5</td>\n",
       "      <td>5</td>\n",
       "      <td>5</td>\n",
       "      <td>5</td>\n",
       "      <td>5</td>\n",
       "      <td>5</td>\n",
       "      <td>5</td>\n",
       "      <td>5</td>\n",
       "      <td>5</td>\n",
       "    </tr>\n",
       "    <tr>\n",
       "      <th>11</th>\n",
       "      <td>4</td>\n",
       "      <td>4</td>\n",
       "      <td>4</td>\n",
       "      <td>4</td>\n",
       "      <td>4</td>\n",
       "      <td>4</td>\n",
       "      <td>4</td>\n",
       "      <td>4</td>\n",
       "      <td>4</td>\n",
       "      <td>4</td>\n",
       "      <td>4</td>\n",
       "      <td>4</td>\n",
       "    </tr>\n",
       "    <tr>\n",
       "      <th>12</th>\n",
       "      <td>4</td>\n",
       "      <td>4</td>\n",
       "      <td>4</td>\n",
       "      <td>4</td>\n",
       "      <td>4</td>\n",
       "      <td>4</td>\n",
       "      <td>4</td>\n",
       "      <td>4</td>\n",
       "      <td>4</td>\n",
       "      <td>4</td>\n",
       "      <td>4</td>\n",
       "      <td>4</td>\n",
       "    </tr>\n",
       "  </tbody>\n",
       "</table>\n",
       "</div>"
      ],
      "text/plain": [
       "          _lemma  s_lemma  _pos  s_pos  _tag  s_tag  _ent_type  s_ent_type  \\\n",
       "NumWords                                                                     \n",
       "1           3218     3218  3218   3218  3218   3218       3218        3218   \n",
       "2           5277     5277  5277   5277  5277   5277       5277        5277   \n",
       "3           1978     1978  1978   1978  1978   1978       1978        1978   \n",
       "4            709      709   709    709   709    709        709         709   \n",
       "5            320      320   320    320   320    320        320         320   \n",
       "6            166      166   166    166   166    166        166         166   \n",
       "7             84       84    84     84    84     84         84          84   \n",
       "8             42       42    42     42    42     42         42          42   \n",
       "9             10       10    10     10    10     10         10          10   \n",
       "10             5        5     5      5     5      5          5           5   \n",
       "11             4        4     4      4     4      4          4           4   \n",
       "12             4        4     4      4     4      4          4           4   \n",
       "\n",
       "          Phrases  Category  splited  s_NumWords  \n",
       "NumWords                                          \n",
       "1            3218      3218     3218        3218  \n",
       "2            5277      5277     5277        5277  \n",
       "3            1978      1978     1978        1978  \n",
       "4             709       709      709         709  \n",
       "5             320       320      320         320  \n",
       "6             166       166      166         166  \n",
       "7              84        84       84          84  \n",
       "8              42        42       42          42  \n",
       "9              10        10       10          10  \n",
       "10              5         5        5           5  \n",
       "11              4         4        4           4  \n",
       "12              4         4        4           4  "
      ]
     },
     "execution_count": 1571,
     "metadata": {},
     "output_type": "execute_result"
    }
   ],
   "source": [
    "# Regroup  results taking len of phrase in account\n",
    "# ------------------------------------------------\n",
    "import numpy as np\n",
    "import matplotlib.pyplot as plt\n",
    "import json\n",
    "\n",
    "\n",
    "# I needed wikiphrases mostly for generation purpuses,\n",
    "# For that, what i would like the most is JSON in scheme of: \n",
    "# \"Category\" : [list of phrases] \n",
    "phrase_categories = wiki_ent_fix.Category.unique().tolist()  # 22 categories\n",
    "\n",
    "# On top of that, length of phrases is important.\n",
    "# I might group phrases by their word length.\n",
    "word_num_all = np.sort(wiki_ent_fix.s_NumWords.unique())     # 14 groups by phrase lenghth\n",
    "\n",
    "print(\"{} Categories types:\\n\\n{}\\n\\n\".format(len(phrase_categories), phrase_categories))\n",
    "print(\"{} # of words types:\\n\\n{}\\n\\n\".format(len(word_num_all), word_num_all))\n",
    "\n",
    "# I need explore phrases lengths to find most useful method of grupping:\n",
    "wiki_ent_fix.groupby([wiki_ent_fix.NumWords]).count()"
   ]
  },
  {
   "cell_type": "code",
   "execution_count": 1548,
   "metadata": {},
   "outputs": [
    {
     "name": "stdout",
     "output_type": "stream",
     "text": [
      "Biases\n"
     ]
    },
    {
     "data": {
      "image/png": "[encoded data removed]",
      "text/plain": [
       "<Figure size 1080x360 with 1 Axes>"
      ]
     },
     "metadata": {},
     "output_type": "display_data"
    },
    {
     "name": "stdout",
     "output_type": "stream",
     "text": [
      "FalseAuthor\n"
     ]
    },
    {
     "data": {
      "image/png": "[encoded data removed]",
      "text/plain": [
       "<Figure size 1080x360 with 1 Axes>"
      ]
     },
     "metadata": {},
     "output_type": "display_data"
    },
    {
     "name": "stdout",
     "output_type": "stream",
     "text": [
      "Emotions\n"
     ]
    },
    {
     "data": {
      "image/png": "[encoded data removed]",
      "text/plain": [
       "<Figure size 1080x360 with 1 Axes>"
      ]
     },
     "metadata": {},
     "output_type": "display_data"
    },
    {
     "name": "stdout",
     "output_type": "stream",
     "text": [
      "PsychoDisciplines\n"
     ]
    },
    {
     "data": {
      "image/png": "[encoded data removed]",
      "text/plain": [
       "<Figure size 1080x360 with 1 Axes>"
      ]
     },
     "metadata": {},
     "output_type": "display_data"
    },
    {
     "name": "stdout",
     "output_type": "stream",
     "text": [
      "HinduSpace\n"
     ]
    },
    {
     "data": {
      "image/png": "[encoded data removed]",
      "text/plain": [
       "<Figure size 1080x360 with 1 Axes>"
      ]
     },
     "metadata": {},
     "output_type": "display_data"
    },
    {
     "name": "stdout",
     "output_type": "stream",
     "text": [
      "Statistics\n"
     ]
    },
    {
     "data": {
      "image/png": "[encoded data removed]",
      "text/plain": [
       "<Figure size 1080x360 with 1 Axes>"
      ]
     },
     "metadata": {},
     "output_type": "display_data"
    },
    {
     "name": "stdout",
     "output_type": "stream",
     "text": [
      "PseudoSciences\n"
     ]
    },
    {
     "data": {
      "image/png": "[encoded data removed]",
      "text/plain": [
       "<Figure size 1080x360 with 1 Axes>"
      ]
     },
     "metadata": {},
     "output_type": "display_data"
    },
    {
     "name": "stdout",
     "output_type": "stream",
     "text": [
      "Animans\n"
     ]
    },
    {
     "data": {
      "image/png": "[encoded data removed]",
      "text/plain": [
       "<Figure size 1080x360 with 1 Axes>"
      ]
     },
     "metadata": {},
     "output_type": "display_data"
    },
    {
     "name": "stdout",
     "output_type": "stream",
     "text": [
      "Hobbies\n"
     ]
    },
    {
     "data": {
      "image/png": "[encoded data removed]",
      "text/plain": [
       "<Figure size 1080x360 with 1 Axes>"
      ]
     },
     "metadata": {},
     "output_type": "display_data"
    },
    {
     "name": "stdout",
     "output_type": "stream",
     "text": [
      "CosmosNames\n"
     ]
    },
    {
     "data": {
      "image/png": "[encoded data removed]",
      "text/plain": [
       "<Figure size 1080x360 with 1 Axes>"
      ]
     },
     "metadata": {},
     "output_type": "display_data"
    },
    {
     "name": "stdout",
     "output_type": "stream",
     "text": [
      "NegDisability\n"
     ]
    },
    {
     "data": {
      "image/png": "[encoded data removed]",
      "text/plain": [
       "<Figure size 1080x360 with 1 Axes>"
      ]
     },
     "metadata": {},
     "output_type": "display_data"
    },
    {
     "name": "stdout",
     "output_type": "stream",
     "text": [
      "UrbanLegends\n"
     ]
    },
    {
     "data": {
      "image/png": "[encoded data removed]",
      "text/plain": [
       "<Figure size 1080x360 with 1 Axes>"
      ]
     },
     "metadata": {},
     "output_type": "display_data"
    },
    {
     "name": "stdout",
     "output_type": "stream",
     "text": [
      "Symbols\n"
     ]
    },
    {
     "data": {
      "image/png": "[encoded data removed]",
      "text/plain": [
       "<Figure size 1080x360 with 1 Axes>"
      ]
     },
     "metadata": {},
     "output_type": "display_data"
    },
    {
     "name": "stdout",
     "output_type": "stream",
     "text": [
      "Organisations\n"
     ]
    },
    {
     "data": {
      "image/png": "[encoded data removed]",
      "text/plain": [
       "<Figure size 1080x360 with 1 Axes>"
      ]
     },
     "metadata": {},
     "output_type": "display_data"
    },
    {
     "name": "stdout",
     "output_type": "stream",
     "text": [
      "PseudoDiagnoses\n"
     ]
    },
    {
     "data": {
      "image/png": "[encoded data removed]",
      "text/plain": [
       "<Figure size 1080x360 with 1 Axes>"
      ]
     },
     "metadata": {},
     "output_type": "display_data"
    },
    {
     "name": "stdout",
     "output_type": "stream",
     "text": [
      "Awards\n"
     ]
    },
    {
     "data": {
      "image/png": "[encoded data removed]",
      "text/plain": [
       "<Figure size 1080x360 with 1 Axes>"
      ]
     },
     "metadata": {},
     "output_type": "display_data"
    },
    {
     "name": "stdout",
     "output_type": "stream",
     "text": [
      "PsychoResearch\n"
     ]
    },
    {
     "data": {
      "image/png": "[encoded data removed]",
      "text/plain": [
       "<Figure size 1080x360 with 1 Axes>"
      ]
     },
     "metadata": {},
     "output_type": "display_data"
    },
    {
     "name": "stdout",
     "output_type": "stream",
     "text": [
      "Disorders\n"
     ]
    },
    {
     "data": {
      "image/png": "[encoded data removed]",
      "text/plain": [
       "<Figure size 1080x360 with 1 Axes>"
      ]
     },
     "metadata": {},
     "output_type": "display_data"
    },
    {
     "name": "stdout",
     "output_type": "stream",
     "text": [
      "Dances\n"
     ]
    },
    {
     "data": {
      "image/png": "[encoded data removed]",
      "text/plain": [
       "<Figure size 1080x360 with 1 Axes>"
      ]
     },
     "metadata": {},
     "output_type": "display_data"
    },
    {
     "name": "stdout",
     "output_type": "stream",
     "text": [
      "Challanges\n"
     ]
    },
    {
     "data": {
      "image/png": "[encoded data removed]",
      "text/plain": [
       "<Figure size 1080x360 with 1 Axes>"
      ]
     },
     "metadata": {},
     "output_type": "display_data"
    },
    {
     "name": "stdout",
     "output_type": "stream",
     "text": [
      "BiblNames\n"
     ]
    },
    {
     "data": {
      "image/png": "[encoded data removed]",
      "text/plain": [
       "<Figure size 1080x360 with 1 Axes>"
      ]
     },
     "metadata": {},
     "output_type": "display_data"
    },
    {
     "name": "stdout",
     "output_type": "stream",
     "text": [
      "SocialMovements\n"
     ]
    },
    {
     "data": {
      "image/png": "[encoded data removed]",
      "text/plain": [
       "<Figure size 1080x360 with 1 Axes>"
      ]
     },
     "metadata": {},
     "output_type": "display_data"
    }
   ],
   "source": [
    "for cat in phrase_categories:\n",
    "    pltdata = wiki_ent_fix[(wiki_ent_fix['Category'] == cat)].groupby([wiki_ent_fix.NumWords]).count()['Phrases']\n",
    "    print(cat)\n",
    "    # Quick plot\n",
    "    pltdata.plot(kind='bar', figsize=(15,5), fontsize=15, orientation='vertical')\n",
    "    plt.show()"
   ]
  },
  {
   "cell_type": "code",
   "execution_count": 1575,
   "metadata": {},
   "outputs": [],
   "source": [
    "\n",
    "# Final picks for num_words divide (followed with some super dirty accumulative percent calculations)\n",
    "gr1 = [\"BiblNames\", \"Animals\"]\n",
    "gr12 = [\"Emotions\", \"HinduSpace\", \"Hobbies\", \"CosmosNames\", \"Dances\"]\n",
    "gr123 = [\"FalseAuthor\", \"PsychoResearch\", 'PsychoDisciplines', 'Symbols', 'Biases', 'Statistics', 'Disorders', 'Challanges','SocialMovements','PseudoDiagnoses', 'NegDisability', 'UrbanLegends', 'PseudoSciences']\n",
    "gr123_345_56 = ['Organisations', 'Awards']\n",
    "\n",
    "to_json_dict = {}\n",
    "for cat in phrase_categories[:1]:\n",
    "    # On top of that i will also save all groups without num of words divide\n",
    "    s = wik.loc[(wik['Category'] == cat) & (wik['NumWords'] <= 2)]['Phrases'].tolist()\n",
    "    to_json_dict[cat] = s\n",
    "    if cat in gr1:\n",
    "        s = wik.loc[(wik['Category'] == cat) & (wik['NumWords'] <= 2)]['Phrases'].tolist()\n",
    "        to_json_dict[ \"\".join([cat,\"_12\"]) ] = s\n",
    "    elif cat in gr12:\n",
    "        s = wik.loc[(wik['Category'] == cat) & (wik['NumWords'] <= 2)]['Phrases'].tolist()\n",
    "        to_json_dict[ \"\".join([cat,\"_12\"]) ] = s\n",
    "        s = wik.loc[(wik['Category'] == cat) & (wik['NumWords'] >= 3)]['Phrases'].tolist()\n",
    "        to_json_dict[\"\".join([cat,\"_3\"])] = s\n",
    "    elif cat in gr123:\n",
    "        s = wik.loc[(wik['Category'] == cat) & (wik['NumWords'] == 1)]['Phrases'].tolist()\n",
    "        to_json_dict[\"\".join([cat,\"_1\"])] = s\n",
    "        s = wik.loc[(wik['Category'] == cat) & (wik['NumWords'] == 2)]['Phrases'].tolist()\n",
    "        to_json_dict[\"\".join([cat,\"_2\"])] = s\n",
    "        s = wik.loc[(wik['Category'] == cat) & (wik['NumWords'] >= 3)]['Phrases'].tolist()\n",
    "        to_json_dict[\"\".join([cat,\"_3\"])] = s\n",
    "        pass\n",
    "    elif cat in gr123_345_56:\n",
    "        s = wik.loc[(wik['Category'] == cat) & (wik['NumWords'] <= 3)]['Phrases'].to_list()\n",
    "        to_json_dict[\"\".join([cat,\"_123\"])] = s\n",
    "        s = wik.loc[(wik['Category'] == cat) & (wik['NumWords'] >= 3) & (wik['NumWords'] <= 5)]['Phrases'].tolist()\n",
    "        to_json_dict[\"\".join([cat,\"_345\"])] = s\n",
    "        s = wik.loc[(wik['Category'] == cat) & (wik['NumWords'] >= 5)]['Phrases'].tolist()\n",
    "        to_json_dict[\"\".join([cat,\"_567\"])] = s\n"
   ]
  },
  {
   "cell_type": "code",
   "execution_count": 1576,
   "metadata": {},
   "outputs": [],
   "source": [
    "save_path =  CWD + os.path.join(DIR, 'wiki_phrases_clean.json')\n",
    "with open(save_path, \"w\") as f:\n",
    "    json.dump(to_json_dict, f, indent=4)"
   ]
  },
  {
   "cell_type": "code",
   "execution_count": null,
   "metadata": {},
   "outputs": [],
   "source": []
  },
  {
   "cell_type": "code",
   "execution_count": null,
   "metadata": {},
   "outputs": [],
   "source": []
  },
  {
   "cell_type": "code",
   "execution_count": null,
   "metadata": {},
   "outputs": [],
   "source": []
  },
  {
   "cell_type": "code",
   "execution_count": null,
   "metadata": {},
   "outputs": [],
   "source": []
  },
  {
   "cell_type": "code",
   "execution_count": null,
   "metadata": {},
   "outputs": [],
   "source": []
  },
  {
   "cell_type": "code",
   "execution_count": null,
   "metadata": {},
   "outputs": [],
   "source": []
  },
  {
   "cell_type": "code",
   "execution_count": null,
   "metadata": {},
   "outputs": [],
   "source": []
  },
  {
   "cell_type": "code",
   "execution_count": null,
   "metadata": {},
   "outputs": [],
   "source": []
  },
  {
   "cell_type": "code",
   "execution_count": null,
   "metadata": {},
   "outputs": [],
   "source": []
  },
  {
   "cell_type": "code",
   "execution_count": null,
   "metadata": {},
   "outputs": [],
   "source": []
  },
  {
   "cell_type": "code",
   "execution_count": null,
   "metadata": {},
   "outputs": [],
   "source": []
  },
  {
   "cell_type": "code",
   "execution_count": null,
   "metadata": {},
   "outputs": [],
   "source": []
  },
  {
   "cell_type": "code",
   "execution_count": null,
   "metadata": {},
   "outputs": [],
   "source": []
  },
  {
   "cell_type": "code",
   "execution_count": null,
   "metadata": {},
   "outputs": [],
   "source": []
  },
  {
   "cell_type": "code",
   "execution_count": null,
   "metadata": {},
   "outputs": [],
   "source": []
  },
  {
   "cell_type": "code",
   "execution_count": null,
   "metadata": {},
   "outputs": [],
   "source": []
  },
  {
   "cell_type": "code",
   "execution_count": null,
   "metadata": {},
   "outputs": [],
   "source": []
  },
  {
   "cell_type": "code",
   "execution_count": null,
   "metadata": {},
   "outputs": [],
   "source": []
  },
  {
   "cell_type": "code",
   "execution_count": null,
   "metadata": {},
   "outputs": [],
   "source": []
  },
  {
   "cell_type": "code",
   "execution_count": null,
   "metadata": {},
   "outputs": [],
   "source": []
  },
  {
   "cell_type": "code",
   "execution_count": null,
   "metadata": {},
   "outputs": [],
   "source": []
  },
  {
   "cell_type": "code",
   "execution_count": null,
   "metadata": {},
   "outputs": [],
   "source": []
  },
  {
   "cell_type": "code",
   "execution_count": null,
   "metadata": {},
   "outputs": [],
   "source": []
  },
  {
   "cell_type": "code",
   "execution_count": null,
   "metadata": {},
   "outputs": [],
   "source": []
  },
  {
   "cell_type": "code",
   "execution_count": null,
   "metadata": {},
   "outputs": [],
   "source": []
  },
  {
   "cell_type": "code",
   "execution_count": null,
   "metadata": {},
   "outputs": [],
   "source": []
  },
  {
   "cell_type": "code",
   "execution_count": null,
   "metadata": {},
   "outputs": [],
   "source": []
  },
  {
   "cell_type": "code",
   "execution_count": null,
   "metadata": {},
   "outputs": [],
   "source": []
  },
  {
   "cell_type": "code",
   "execution_count": null,
   "metadata": {},
   "outputs": [],
   "source": []
  },
  {
   "cell_type": "code",
   "execution_count": null,
   "metadata": {},
   "outputs": [],
   "source": []
  },
  {
   "cell_type": "code",
   "execution_count": null,
   "metadata": {},
   "outputs": [],
   "source": []
  },
  {
   "cell_type": "code",
   "execution_count": null,
   "metadata": {},
   "outputs": [],
   "source": []
  },
  {
   "cell_type": "code",
   "execution_count": null,
   "metadata": {},
   "outputs": [],
   "source": []
  },
  {
   "cell_type": "code",
   "execution_count": null,
   "metadata": {},
   "outputs": [],
   "source": []
  },
  {
   "cell_type": "code",
   "execution_count": null,
   "metadata": {},
   "outputs": [],
   "source": []
  },
  {
   "cell_type": "code",
   "execution_count": null,
   "metadata": {},
   "outputs": [],
   "source": []
  },
  {
   "cell_type": "code",
   "execution_count": null,
   "metadata": {},
   "outputs": [],
   "source": []
  },
  {
   "cell_type": "code",
   "execution_count": null,
   "metadata": {},
   "outputs": [],
   "source": []
  },
  {
   "cell_type": "code",
   "execution_count": null,
   "metadata": {
    "scrolled": true
   },
   "outputs": [],
   "source": []
  },
  {
   "cell_type": "code",
   "execution_count": null,
   "metadata": {},
   "outputs": [],
   "source": []
  },
  {
   "cell_type": "code",
   "execution_count": null,
   "metadata": {},
   "outputs": [],
   "source": []
  },
  {
   "cell_type": "code",
   "execution_count": null,
   "metadata": {},
   "outputs": [],
   "source": []
  },
  {
   "cell_type": "code",
   "execution_count": null,
   "metadata": {},
   "outputs": [],
   "source": []
  }
 ],
 "metadata": {
  "kernelspec": {
   "display_name": "Python 3",
   "language": "python",
   "name": "python3"
  },
  "language_info": {
   "codemirror_mode": {
    "name": "ipython",
    "version": 3
   },
   "file_extension": ".py",
   "mimetype": "text/x-python",
   "name": "python",
   "nbconvert_exporter": "python",
   "pygments_lexer": "ipython3",
   "version": "3.6.4"
  }
 },
 "nbformat": 4,
 "nbformat_minor": 2
}
